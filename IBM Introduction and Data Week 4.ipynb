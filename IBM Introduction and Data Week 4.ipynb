{
 "cells": [
  {
   "cell_type": "markdown",
   "metadata": {},
   "source": [
    "Brandon Kolljeski\n",
    "IBM Data Science Capstone Project 2020\n",
    "Introduction\n",
    "\n",
    "For my question that I will be trying to answer I’m going to look at where a new or expansion brewery should be built in the Richmond, VA area. The idea of a business cluster(industry cluster, competitive cluster, Porterian Cluster) was popularized by Michael Porter in his book The Competitive Advantage in 1990. This idea is not new and has been around since the 1890’s with the work of Alfred Marshall and being termed the agglomeration economies. The idea states that similar businesses built close together gain an advantage by generating a few different effects in the localized industry. These effects can include pricing, more customer attraction, innovation in the industry and localizing talent to name a few. This is something I have personally been a part of in the Richmond craft beer community. In late June we went to a district in Richmond to visit a brewery and at the time they were full, so we ended up walking a short distance to the next brewery and spent our money there. If they hadn’t been located within a reasonable distance from one another we would have left the area all together, but because of the convenience we chose to stay in the area and spend our money there. That was what also drew us to the area in the first place. Knowing that if one business did not have seating or a product that we enjoyed we could move on quickly and find something else within a short commute. By looking at the breweries in each district in Richmond we will be able to see which areas give the best opportunity to attract spill over crowd, people looking for something different or people just enjoying the area in general and stumbling upon your business by simply being there. \n"
   ]
  },
  {
   "cell_type": "markdown",
   "metadata": {},
   "source": [
    "Brandon Kolljeski\n",
    "IBM Data Science Capstone Project 2020\n",
    "Data\n",
    "\n",
    "The data I will be using for this project will include multiple sources. I was able to find a csv file containing all of the districts and neighborhoods in Richmond, VA from a Virginia government website. With that information in hand I will use Four Square to pull brewery location information. I will assign all breweries to their neighborhood group and use the grouping method we used in week 9 of this course to set up clusters. This will give the group data showing where the highest clusters of breweries are in the area and where they stand the best chance to find customers grouped together looking for the same experience. I will also pull Four Square data for hotels in the area so that the group can see how far away they will be from possible out of town customers and which clusters offer the easiest route of travel to their business and a higher likelihood to be visited on a whim decision. \n"
   ]
  },
  {
   "cell_type": "code",
   "execution_count": null,
   "metadata": {},
   "outputs": [],
   "source": []
  }
 ],
 "metadata": {
  "kernelspec": {
   "display_name": "Python 3",
   "language": "python",
   "name": "python3"
  },
  "language_info": {
   "codemirror_mode": {
    "name": "ipython",
    "version": 3
   },
   "file_extension": ".py",
   "mimetype": "text/x-python",
   "name": "python",
   "nbconvert_exporter": "python",
   "pygments_lexer": "ipython3",
   "version": "3.8.3"
  }
 },
 "nbformat": 4,
 "nbformat_minor": 4
}
